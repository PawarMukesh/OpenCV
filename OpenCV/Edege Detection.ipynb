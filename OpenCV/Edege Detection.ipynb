{
 "cells": [
  {
   "cell_type": "code",
   "execution_count": null,
   "id": "5a84e3e1",
   "metadata": {},
   "outputs": [],
   "source": [
    "!pip install opencv-python"
   ]
  },
  {
   "cell_type": "markdown",
   "id": "89ca45ce",
   "metadata": {},
   "source": [
    "# 1. Prewitt Horizontal Filter"
   ]
  },
  {
   "cell_type": "code",
   "execution_count": 1,
   "id": "af187f8c",
   "metadata": {},
   "outputs": [],
   "source": [
    "import cv2\n",
    "import numpy as np\n",
    "\n",
    "def prewitt_horizontal(image):\n",
    "    # Define the x prewitt kernel\n",
    "    kernel = np.array([[-1,-1,-1],\n",
    "                       [0, 0, 0],\n",
    "                       [1, 1, 1]])\n",
    "    \n",
    "    # apply the filter to the image using the cv2.filter2D\n",
    "    filterd_image = cv2.filter2D(image, -1, kernel)\n",
    "    \n",
    "    return filterd_image"
   ]
  },
  {
   "cell_type": "code",
   "execution_count": 2,
   "id": "d0517fd9",
   "metadata": {},
   "outputs": [],
   "source": [
    "# Read image\n",
    "image = cv2.imread(r\"C:\\Users\\hp\\OneDrive\\Pictures\\CV images\\house[6149].jpg\")\n",
    "filter_image = prewitt_horizontal(image)\n",
    "\n",
    "cv2.imshow('image',filter_image)\n",
    "cv2.waitKey(0)\n",
    "cv2.destroyAllWindows()"
   ]
  },
  {
   "cell_type": "markdown",
   "id": "be6ede0c",
   "metadata": {},
   "source": [
    "# 2. Prewitt vertical Filter"
   ]
  },
  {
   "cell_type": "code",
   "execution_count": 3,
   "id": "01d7328c",
   "metadata": {},
   "outputs": [],
   "source": [
    "def prewitt_vertical(image):\n",
    "    # Define the x prewitt kernel\n",
    "    kernel = np.array([[-1, 0, 1],\n",
    "                       [-1, 0, 1],\n",
    "                       [-1, 0, 1]])\n",
    "    \n",
    "    # apply the filter to the image using the cv2.filter2D\n",
    "    filterd_image = cv2.filter2D(image, -1, kernel)\n",
    "    \n",
    "    return filterd_image"
   ]
  },
  {
   "cell_type": "code",
   "execution_count": 4,
   "id": "d647309d",
   "metadata": {},
   "outputs": [],
   "source": [
    "# Read image\n",
    "img = cv2.imread(r\"C:\\Users\\hp\\OneDrive\\Pictures\\CV images\\house[6149].jpg\")\n",
    "filter_img1 = prewitt_vertical(img)\n",
    "\n",
    "cv2.imshow('image',filter_img1)\n",
    "cv2.waitKey(0)\n",
    "cv2.destroyAllWindows()"
   ]
  },
  {
   "cell_type": "markdown",
   "id": "ae3e7b79",
   "metadata": {},
   "source": [
    "# 3. Sobel Horizontal"
   ]
  },
  {
   "cell_type": "code",
   "execution_count": 5,
   "id": "f50b4d3c",
   "metadata": {},
   "outputs": [],
   "source": [
    "def sobel_horizontal(image):\n",
    "    # Define the x prewitt kernel\n",
    "    kernel = np.array([[-1, -2, -1],\n",
    "                       [0,  0,  0],\n",
    "                       [1,  2,  1]])\n",
    "    \n",
    "    # apply the filter to the image using the cv2.filter2D\n",
    "    filterd_image = cv2.filter2D(image, -1, kernel)\n",
    "    \n",
    "    return filterd_image"
   ]
  },
  {
   "cell_type": "code",
   "execution_count": 6,
   "id": "15fd0f1b",
   "metadata": {},
   "outputs": [],
   "source": [
    "# Read image\n",
    "img1 = cv2.imread(r\"C:\\Users\\hp\\OneDrive\\Pictures\\CV images\\house[6149].jpg\")\n",
    "filter_img2 = sobel_horizontal(img1)\n",
    "\n",
    "cv2.imshow('image',filter_img2)\n",
    "cv2.waitKey(0)\n",
    "cv2.destroyAllWindows()"
   ]
  },
  {
   "cell_type": "markdown",
   "id": "795f7725",
   "metadata": {},
   "source": [
    "# 4. Sobel vertical"
   ]
  },
  {
   "cell_type": "code",
   "execution_count": 7,
   "id": "dc6bf877",
   "metadata": {},
   "outputs": [],
   "source": [
    "def sobel_vertical(image):\n",
    "    # Define the x prewitt kernel\n",
    "    kernel = np.array([[-1, 0, 1],\n",
    "                       [-2, 0, 2],\n",
    "                       [-1, 0, 1]])\n",
    "    \n",
    "    # apply the filter to the image using the cv2.filter2D\n",
    "    filterd_image = cv2.filter2D(image, -1, kernel)\n",
    "    \n",
    "    return filterd_image"
   ]
  },
  {
   "cell_type": "code",
   "execution_count": 8,
   "id": "979b3ed9",
   "metadata": {},
   "outputs": [],
   "source": [
    "# Read image\n",
    "img3 = cv2.imread(r\"C:\\Users\\hp\\OneDrive\\Pictures\\CV images\\house[6149].jpg\")\n",
    "filter_img3 = sobel_vertical(img3)\n",
    "\n",
    "cv2.imshow('image',filter_img3)\n",
    "cv2.waitKey(0)\n",
    "cv2.destroyAllWindows()"
   ]
  },
  {
   "cell_type": "markdown",
   "id": "8b9f3d97",
   "metadata": {},
   "source": [
    "# 5. Roberts Horizontal"
   ]
  },
  {
   "cell_type": "code",
   "execution_count": 9,
   "id": "793e0602",
   "metadata": {},
   "outputs": [],
   "source": [
    "def roberts_horizontal(image):\n",
    "    # Define the x prewitt kernel\n",
    "    kernel = np.array([[-1, 0],\n",
    "                       [0, -1]])\n",
    "    \n",
    "    # apply the filter to the image using the cv2.filter2D\n",
    "    filterd_image = cv2.filter2D(image, -1, kernel)\n",
    "    \n",
    "    return filterd_image"
   ]
  },
  {
   "cell_type": "code",
   "execution_count": 10,
   "id": "bab2a011",
   "metadata": {},
   "outputs": [],
   "source": [
    "# Read image\n",
    "img4 = cv2.imread(r\"C:\\Users\\hp\\OneDrive\\Pictures\\CV images\\house[6149].jpg\")\n",
    "filter_img4 = roberts_horizontal(img4)\n",
    "\n",
    "cv2.imshow('image',filter_img4)\n",
    "cv2.waitKey(0)\n",
    "cv2.destroyAllWindows()"
   ]
  },
  {
   "cell_type": "markdown",
   "id": "8c331ca1",
   "metadata": {},
   "source": [
    "# 6. Roberts Vertical"
   ]
  },
  {
   "cell_type": "code",
   "execution_count": 11,
   "id": "b8385b4c",
   "metadata": {},
   "outputs": [],
   "source": [
    "def roberts_vertical(image):\n",
    "    # Define the x prewitt kernel\n",
    "    kernel = np.array([[0, -1],\n",
    "                       [-1, 0]])\n",
    "    \n",
    "    # apply the filter to the image using the cv2.filter2D\n",
    "    filterd_image = cv2.filter2D(image, -1, kernel)\n",
    "    \n",
    "    return filterd_image"
   ]
  },
  {
   "cell_type": "code",
   "execution_count": 12,
   "id": "a8047140",
   "metadata": {},
   "outputs": [],
   "source": [
    "# Read image\n",
    "img5 = cv2.imread(r\"C:\\Users\\hp\\OneDrive\\Pictures\\CV images\\house[6149].jpg\")\n",
    "filter_img5 = roberts_vertical(img5)\n",
    "\n",
    "cv2.imshow('image',filter_img5)\n",
    "cv2.waitKey(0)\n",
    "cv2.destroyAllWindows()"
   ]
  }
 ],
 "metadata": {
  "kernelspec": {
   "display_name": "Python 3 (ipykernel)",
   "language": "python",
   "name": "python3"
  },
  "language_info": {
   "codemirror_mode": {
    "name": "ipython",
    "version": 3
   },
   "file_extension": ".py",
   "mimetype": "text/x-python",
   "name": "python",
   "nbconvert_exporter": "python",
   "pygments_lexer": "ipython3",
   "version": "3.11.5"
  }
 },
 "nbformat": 4,
 "nbformat_minor": 5
}
